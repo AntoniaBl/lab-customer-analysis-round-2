{
 "cells": [
  {
   "cell_type": "markdown",
   "id": "2b3b5e71",
   "metadata": {},
   "source": [
    "# Lab-customer-analysis-round-2"
   ]
  },
  {
   "cell_type": "markdown",
   "id": "719d3791",
   "metadata": {},
   "source": [
    "For this lab, we will be using the `marketing_customer_analysis.csv` file that you can find in the `files_for_lab` folder. Check out the `files_for_lab/about.md` to get more information if you are using the Online Excel.\n",
    "\n",
    "**Note**: For the next labs we will be using the same data file. Please save the code, so that you can re-use it later in the labs following this lab."
   ]
  },
  {
   "cell_type": "code",
   "execution_count": null,
   "id": "ec3d9c59",
   "metadata": {},
   "outputs": [],
   "source": [
    "import pandas as pd"
   ]
  },
  {
   "cell_type": "markdown",
   "id": "093746c0",
   "metadata": {},
   "source": [
    "## 1. Show the dataframe shape.\n"
   ]
  },
  {
   "cell_type": "code",
   "execution_count": null,
   "id": "fdd7c4c6",
   "metadata": {},
   "outputs": [],
   "source": []
  },
  {
   "cell_type": "markdown",
   "id": "7f2ebd9e",
   "metadata": {},
   "source": [
    "## 2. Standardize header names.\n"
   ]
  },
  {
   "cell_type": "code",
   "execution_count": null,
   "id": "fab906ba",
   "metadata": {},
   "outputs": [],
   "source": []
  },
  {
   "cell_type": "markdown",
   "id": "f1d1742f",
   "metadata": {},
   "source": [
    "## 3. Which columns are numerical?\n"
   ]
  },
  {
   "cell_type": "code",
   "execution_count": null,
   "id": "9359608b",
   "metadata": {},
   "outputs": [],
   "source": []
  },
  {
   "cell_type": "markdown",
   "id": "e9b7add4",
   "metadata": {},
   "source": [
    "## 4. Which columns are categorical?\n"
   ]
  },
  {
   "cell_type": "code",
   "execution_count": null,
   "id": "7ff0a529",
   "metadata": {},
   "outputs": [],
   "source": []
  },
  {
   "cell_type": "markdown",
   "id": "e7e4c203",
   "metadata": {},
   "source": [
    "## 5. Check and deal with `NaN` values.\n"
   ]
  },
  {
   "cell_type": "code",
   "execution_count": null,
   "id": "17544f9d",
   "metadata": {},
   "outputs": [],
   "source": []
  },
  {
   "cell_type": "markdown",
   "id": "fdf20d1e",
   "metadata": {},
   "source": [
    "## 6. Datetime format - Extract the months from the dataset and store in a separate column. Then filter the data to show only the information for the first quarter , ie. January, February and March. _Hint_: If data from March does not exist, consider only January and February.\n"
   ]
  },
  {
   "cell_type": "code",
   "execution_count": null,
   "id": "6491557f",
   "metadata": {},
   "outputs": [],
   "source": []
  },
  {
   "cell_type": "markdown",
   "id": "ae487947",
   "metadata": {},
   "source": [
    "## 7. BONUS: Put all the previously mentioned data transformations into a function."
   ]
  },
  {
   "cell_type": "code",
   "execution_count": null,
   "id": "91077c8a",
   "metadata": {},
   "outputs": [],
   "source": []
  }
 ],
 "metadata": {
  "kernelspec": {
   "display_name": "Python 3",
   "language": "python",
   "name": "python3"
  },
  "language_info": {
   "codemirror_mode": {
    "name": "ipython",
    "version": 3
   },
   "file_extension": ".py",
   "mimetype": "text/x-python",
   "name": "python",
   "nbconvert_exporter": "python",
   "pygments_lexer": "ipython3",
   "version": "3.8.5"
  }
 },
 "nbformat": 4,
 "nbformat_minor": 5
}
